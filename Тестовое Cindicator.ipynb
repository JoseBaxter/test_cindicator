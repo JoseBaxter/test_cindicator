{
 "cells": [
  {
   "cell_type": "code",
   "execution_count": 1,
   "metadata": {
    "ExecuteTime": {
     "end_time": "2021-04-01T19:59:38.189934Z",
     "start_time": "2021-04-01T19:59:30.569780Z"
    },
    "code_folding": [],
    "scrolled": false
   },
   "outputs": [
    {
     "data": {
      "text/html": [
       "        <script type=\"text/javascript\">\n",
       "        window.PlotlyConfig = {MathJaxConfig: 'local'};\n",
       "        if (window.MathJax) {MathJax.Hub.Config({SVG: {font: \"STIX-Web\"}});}\n",
       "        if (typeof require !== 'undefined') {\n",
       "        require.undef(\"plotly\");\n",
       "        requirejs.config({\n",
       "            paths: {\n",
       "                'plotly': ['https://cdn.plot.ly/plotly-latest.min']\n",
       "            }\n",
       "        });\n",
       "        require(['plotly'], function(Plotly) {\n",
       "            window._Plotly = Plotly;\n",
       "        });\n",
       "        }\n",
       "        </script>\n",
       "        "
      ]
     },
     "metadata": {},
     "output_type": "display_data"
    },
    {
     "data": {
      "text/html": [
       "        <script type=\"text/javascript\">\n",
       "        window.PlotlyConfig = {MathJaxConfig: 'local'};\n",
       "        if (window.MathJax) {MathJax.Hub.Config({SVG: {font: \"STIX-Web\"}});}\n",
       "        if (typeof require !== 'undefined') {\n",
       "        require.undef(\"plotly\");\n",
       "        requirejs.config({\n",
       "            paths: {\n",
       "                'plotly': ['https://cdn.plot.ly/plotly-latest.min']\n",
       "            }\n",
       "        });\n",
       "        require(['plotly'], function(Plotly) {\n",
       "            window._Plotly = Plotly;\n",
       "        });\n",
       "        }\n",
       "        </script>\n",
       "        "
      ]
     },
     "metadata": {},
     "output_type": "display_data"
    }
   ],
   "source": [
    "# Библиотеки\n",
    "from scipy.stats import chi2_contingency\n",
    "import scipy.stats as stats\n",
    "\n",
    "import pandas as pd\n",
    "import numpy as np"
   ]
  },
  {
   "cell_type": "markdown",
   "metadata": {},
   "source": [
    "# Загрузака и предобработка данных"
   ]
  },
  {
   "cell_type": "code",
   "execution_count": 637,
   "metadata": {
    "ExecuteTime": {
     "end_time": "2021-04-04T12:18:21.592943Z",
     "start_time": "2021-04-04T12:18:21.141969Z"
    },
    "code_folding": [
     0
    ]
   },
   "outputs": [],
   "source": [
    "# Обработка payments\n",
    "payments = pd.read_csv('/Users/Josebaxter/Downloads/payments.csv', sep=';')\n",
    "\n",
    "payments = payments.reset_index()\n",
    "payments = payments.rename(columns=payments.iloc[0]).drop(payments.index[0])\n",
    "\n",
    "payments.Amount = payments.Amount.astype('float')\n",
    "payments.Balance = payments.Balance.astype('float')\n",
    "payments['Payment Dt'] = pd.to_datetime(payments['Payment Dt'])"
   ]
  },
  {
   "cell_type": "code",
   "execution_count": 638,
   "metadata": {
    "ExecuteTime": {
     "end_time": "2021-04-04T12:20:01.649990Z",
     "start_time": "2021-04-04T12:20:01.087435Z"
    },
    "code_folding": [
     0
    ]
   },
   "outputs": [],
   "source": [
    "# Обработка payments sign-ups\n",
    "sign = pd.read_csv('/Users/Josebaxter/Downloads/sign-ups.csv', sep=';')\n",
    "sign = sign.reset_index()\n",
    "\n",
    "# удаляем лишние символы\n",
    "for i in sign.columns:\n",
    "    sign[i] = sign[i].str.replace('\\t','')\n",
    "\n",
    "# делаем первую строку заголовком \n",
    "sign = sign.rename(columns=sign.iloc[0]).drop(sign.index[0])\n",
    "\n",
    "# некоторые юзеры регистрировались повтороно считаем по первой записи amplitude_id (id логов идут обычно в порядке появления в БД)\n",
    "# id лога превращаем в число\n",
    "sign.amplitude_id = sign.amplitude_id.astype('int')\n",
    "# сортируем и осталяем первую запись для дубликатов \n",
    "sign = sign.sort_values('amplitude_id').drop_duplicates('gp:USER_ID', keep='first')\n",
    "\n",
    "# доп преобразовния\n",
    "sign['MEDIA_SOURCE'] = sign['        gp:MEDIA_SOURCE']\n",
    "sign.loc[sign['MEDIA_SOURCE'] == 'blog', \n",
    "         'MEDIA_SOURCE'] = 'Blog'\n",
    "sign.loc[sign['MEDIA_SOURCE'] == '', \n",
    "         'MEDIA_SOURCE'] = 'unknown'\n",
    "\n",
    "\n",
    "sign = sign[['amplitude_id','country','platform', 'start_version', 'version',\n",
    "      'gp:COHORT_DAY','gp:COHORT_WEEK','gp:COHORT_MONTH','gp:COHORT_YEAR',\n",
    "      'gp:IS_DEMO','MEDIA_SOURCE','gp:CAPMAIGN','gp:USER_ID']]\n"
   ]
  },
  {
   "cell_type": "markdown",
   "metadata": {},
   "source": [
    "# Эффективность эксперимента"
   ]
  },
  {
   "cell_type": "code",
   "execution_count": 698,
   "metadata": {
    "ExecuteTime": {
     "end_time": "2021-04-04T13:08:57.199796Z",
     "start_time": "2021-04-04T13:08:57.175787Z"
    },
    "code_folding": []
   },
   "outputs": [],
   "source": [
    "# \n",
    "total_users = (sign.groupby('platform')['gp:USER_ID'].nunique().reset_index()\n",
    " .rename(columns={'gp:USER_ID':'total_users'}))\n",
    "\n",
    "paying_users = (sign[sign['gp:USER_ID'].isin(payments.Email)]\n",
    " .groupby('platform')['gp:USER_ID'].nunique().reset_index()\n",
    " .rename(columns={'gp:USER_ID':'paying_users'}))\n",
    "\n",
    "tab_platform = total_users.merge(paying_users, on='platform')\n",
    "\n",
    "tab_platform['conversion'] = round(tab_platform.paying_users /tab_platform.total_users, 4)\n"
   ]
  },
  {
   "cell_type": "markdown",
   "metadata": {},
   "source": [
    "Общая конверсия в покупку\n"
   ]
  },
  {
   "cell_type": "code",
   "execution_count": 694,
   "metadata": {
    "ExecuteTime": {
     "end_time": "2021-04-04T13:07:27.354984Z",
     "start_time": "2021-04-04T13:07:27.346115Z"
    }
   },
   "outputs": [
    {
     "data": {
      "text/plain": [
       "0.038"
      ]
     },
     "execution_count": 694,
     "metadata": {},
     "output_type": "execute_result"
    }
   ],
   "source": [
    "round(tab_platform.paying_users.sum()/tab_platform.total_users.sum(), 4)\n"
   ]
  },
  {
   "cell_type": "markdown",
   "metadata": {},
   "source": [
    "Конверсия в покупку по платформам"
   ]
  },
  {
   "cell_type": "code",
   "execution_count": 699,
   "metadata": {
    "ExecuteTime": {
     "end_time": "2021-04-04T13:09:00.650906Z",
     "start_time": "2021-04-04T13:09:00.640171Z"
    }
   },
   "outputs": [
    {
     "data": {
      "text/html": [
       "<div>\n",
       "<style scoped>\n",
       "    .dataframe tbody tr th:only-of-type {\n",
       "        vertical-align: middle;\n",
       "    }\n",
       "\n",
       "    .dataframe tbody tr th {\n",
       "        vertical-align: top;\n",
       "    }\n",
       "\n",
       "    .dataframe thead th {\n",
       "        text-align: right;\n",
       "    }\n",
       "</style>\n",
       "<table border=\"1\" class=\"dataframe\">\n",
       "  <thead>\n",
       "    <tr style=\"text-align: right;\">\n",
       "      <th></th>\n",
       "      <th>platform</th>\n",
       "      <th>total_users</th>\n",
       "      <th>paying_users</th>\n",
       "      <th>conversion</th>\n",
       "    </tr>\n",
       "  </thead>\n",
       "  <tbody>\n",
       "    <tr>\n",
       "      <th>0</th>\n",
       "      <td>Android</td>\n",
       "      <td>4943</td>\n",
       "      <td>138</td>\n",
       "      <td>0.0279</td>\n",
       "    </tr>\n",
       "    <tr>\n",
       "      <th>1</th>\n",
       "      <td>iOS</td>\n",
       "      <td>1419</td>\n",
       "      <td>104</td>\n",
       "      <td>0.0733</td>\n",
       "    </tr>\n",
       "  </tbody>\n",
       "</table>\n",
       "</div>"
      ],
      "text/plain": [
       "  platform  total_users  paying_users  conversion\n",
       "0  Android         4943           138      0.0279\n",
       "1      iOS         1419           104      0.0733"
      ]
     },
     "execution_count": 699,
     "metadata": {},
     "output_type": "execute_result"
    }
   ],
   "source": [
    "tab_platform"
   ]
  },
  {
   "cell_type": "markdown",
   "metadata": {},
   "source": [
    "Различие конверсии iOS vs Android"
   ]
  },
  {
   "cell_type": "code",
   "execution_count": 733,
   "metadata": {
    "ExecuteTime": {
     "end_time": "2021-04-04T14:55:18.761817Z",
     "start_time": "2021-04-04T14:55:18.658567Z"
    }
   },
   "outputs": [
    {
     "name": "stdout",
     "output_type": "stream",
     "text": [
      "p-value по критерию Хи-квадрат:\n"
     ]
    },
    {
     "data": {
      "text/plain": [
       "'0.00000000000001'"
      ]
     },
     "execution_count": 733,
     "metadata": {},
     "output_type": "execute_result"
    }
   ],
   "source": [
    "print('p-value по критерию Хи-квадрат:')\n",
    "\n",
    "'%.14f' % chi2_contingency([[tab_platform.total_users[0]-tab_platform.paying_users[0],tab_platform.paying_users[0]],\n",
    "                            [tab_platform.total_users[1]-tab_platform.paying_users[1],tab_platform.paying_users[1]]])[1]\n"
   ]
  },
  {
   "cell_type": "code",
   "execution_count": 701,
   "metadata": {
    "ExecuteTime": {
     "end_time": "2021-04-04T13:10:59.889982Z",
     "start_time": "2021-04-04T13:10:59.254323Z"
    }
   },
   "outputs": [
    {
     "name": "stdout",
     "output_type": "stream",
     "text": [
      "p-value по точному критерию Фишера:\n"
     ]
    },
    {
     "data": {
      "text/plain": [
       "'0.00000000000024'"
      ]
     },
     "execution_count": 701,
     "metadata": {},
     "output_type": "execute_result"
    }
   ],
   "source": [
    "import scipy.stats as stats\n",
    "\n",
    "print('p-value по точному критерию Фишера:')\n",
    "\n",
    "'%.14f' % stats.fisher_exact([[tab_platform.total_users[0]-tab_platform.paying_users[0],tab_platform.paying_users[0]],\n",
    "                            [tab_platform.total_users[1]-tab_platform.paying_users[1],tab_platform.paying_users[1]]])[1]\n"
   ]
  },
  {
   "cell_type": "markdown",
   "metadata": {},
   "source": [
    "Фильтруем версию по \"start_version\", когда сразу после регистрации юзер видел или не видел изменения"
   ]
  },
  {
   "cell_type": "code",
   "execution_count": 726,
   "metadata": {
    "ExecuteTime": {
     "end_time": "2021-04-04T14:39:56.851650Z",
     "start_time": "2021-04-04T14:39:56.808551Z"
    }
   },
   "outputs": [
    {
     "name": "stdout",
     "output_type": "stream",
     "text": [
      "0\n"
     ]
    }
   ],
   "source": [
    "# проверка того, что нет юзеров, которые купили в 19 версии и это было до даты релиза\n",
    "print(sign[(sign['start_version'] == '19') &\n",
    "    (sign['gp:USER_ID'].isin(payments[payments['Payment Dt'] < '2020-12-19'].Email))\n",
    "]['gp:USER_ID'].nunique())"
   ]
  },
  {
   "cell_type": "code",
   "execution_count": 715,
   "metadata": {
    "ExecuteTime": {
     "end_time": "2021-04-04T14:34:35.176867Z",
     "start_time": "2021-04-04T14:34:35.036594Z"
    },
    "code_folding": [
     0
    ]
   },
   "outputs": [],
   "source": [
    "# Статистика по тем, кто купил\n",
    "\n",
    "# всего купили в 19 версии и при этом юзеры есть в выгрузке sign-ups \n",
    "buy_after_release = sign[(sign['start_version'] == '19') &\n",
    "    (sign['gp:USER_ID'].isin(payments.Email))\n",
    "]['gp:USER_ID'].nunique()\n",
    "\n",
    "# & (sign.platform == 'iOS')\n",
    "buy_after_release_iOS = sign[(sign['start_version'] == '19') &\n",
    "    (sign['gp:USER_ID'].isin(payments.Email)) & (sign.platform == 'iOS')\n",
    "]['gp:USER_ID'].nunique()\n",
    "\n",
    "# & (sign.platform == 'Android')\n",
    "buy_after_release_Android = sign[(sign['start_version'] == '19') &\n",
    "    (sign['gp:USER_ID'].isin(payments.Email)) & (sign.platform == 'Android')\n",
    "]['gp:USER_ID'].nunique()\n",
    "\n",
    "# всего купили НЕ в 19 версии\n",
    "buy_before_release = sign[(sign['start_version'] != '19') &\n",
    "    (sign['gp:USER_ID'].isin(payments.Email)) \n",
    "]['gp:USER_ID'].nunique()\n",
    "\n",
    "# & (sign.platform == 'iOS')\n",
    "buy_before_release_iOS = sign[(sign['start_version'] != '19') &\n",
    "    (sign['gp:USER_ID'].isin(payments.Email)) & (sign.platform == 'iOS')\n",
    "]['gp:USER_ID'].nunique()\n",
    "\n",
    "# & (sign.platform == 'Android')\n",
    "buy_before_release_Android = sign[(sign['start_version'] != '19') &\n",
    "    (sign['gp:USER_ID'].isin(payments.Email)) & (sign.platform == 'Android')\n",
    "]['gp:USER_ID'].nunique()\n",
    "\n",
    "\n",
    "# Статистика по всем юзерам\n",
    "\n",
    "# все, кто использовал с 19 версии\n",
    "total_19 = sign[(sign['start_version'] == '19') ]['gp:USER_ID'].nunique()\n",
    "\n",
    "# & (sign.platform == 'Android')\n",
    "total_19_Android = sign[(sign['start_version'] == '19') & (sign.platform == 'Android') ]['gp:USER_ID'].nunique()\n",
    "\n",
    "# & (sign.platform == 'iOS')\n",
    "total_19_iOS = sign[(sign['start_version'] == '19') & (sign.platform == 'iOS') ]['gp:USER_ID'].nunique()\n",
    "\n",
    "# все, кто использовал НЕ с 19 версии\n",
    "total_not_19 = sign[(sign['version'] != '19')\n",
    "]['gp:USER_ID'].nunique()\n",
    "\n",
    "# & (sign.platform == 'Android')\n",
    "total_not_19_Android = sign[(sign['version'] != '19') & (sign.platform == 'Android')\n",
    "]['gp:USER_ID'].nunique()\n",
    "\n",
    "# & (sign.platform == 'iOS')\n",
    "total_not_19_iOS = sign[(sign['version'] != '19') & (sign.platform == 'iOS')\n",
    "]['gp:USER_ID'].nunique()\n"
   ]
  },
  {
   "cell_type": "markdown",
   "metadata": {},
   "source": [
    "Сравнение общих конверсий ДО и ПОСЛЕ эксперимента"
   ]
  },
  {
   "cell_type": "code",
   "execution_count": 730,
   "metadata": {
    "ExecuteTime": {
     "end_time": "2021-04-04T14:45:52.251866Z",
     "start_time": "2021-04-04T14:45:52.205934Z"
    },
    "code_folding": [
     0
    ]
   },
   "outputs": [
    {
     "data": {
      "text/html": [
       "<div>\n",
       "<style scoped>\n",
       "    .dataframe tbody tr th:only-of-type {\n",
       "        vertical-align: middle;\n",
       "    }\n",
       "\n",
       "    .dataframe tbody tr th {\n",
       "        vertical-align: top;\n",
       "    }\n",
       "\n",
       "    .dataframe thead th {\n",
       "        text-align: right;\n",
       "    }\n",
       "</style>\n",
       "<table border=\"1\" class=\"dataframe\">\n",
       "  <thead>\n",
       "    <tr style=\"text-align: right;\">\n",
       "      <th></th>\n",
       "      <th>user_filter</th>\n",
       "      <th>users</th>\n",
       "      <th>paying_users</th>\n",
       "      <th>conversion</th>\n",
       "    </tr>\n",
       "  </thead>\n",
       "  <tbody>\n",
       "    <tr>\n",
       "      <th>0</th>\n",
       "      <td>ДО эксперимента</td>\n",
       "      <td>4638</td>\n",
       "      <td>181</td>\n",
       "      <td>0.0390</td>\n",
       "    </tr>\n",
       "    <tr>\n",
       "      <th>1</th>\n",
       "      <td>ПОСЛЕ эксперимента</td>\n",
       "      <td>1307</td>\n",
       "      <td>61</td>\n",
       "      <td>0.0467</td>\n",
       "    </tr>\n",
       "  </tbody>\n",
       "</table>\n",
       "</div>"
      ],
      "text/plain": [
       "          user_filter  users  paying_users  conversion\n",
       "0     ДО эксперимента   4638           181      0.0390\n",
       "1  ПОСЛЕ эксперимента   1307            61      0.0467"
      ]
     },
     "execution_count": 730,
     "metadata": {},
     "output_type": "execute_result"
    }
   ],
   "source": [
    "# данные\n",
    "cols = ['user_filter','users','paying_users']\n",
    "list_of_series = [pd.Series(['ДО эксперимента',total_not_19,buy_before_release],index=cols),\n",
    "                  pd.Series(['ПОСЛЕ эксперимента', total_19,buy_after_release],index=cols)]\n",
    "tab_total = pd.DataFrame(list_of_series, columns=cols)\n",
    "\n",
    "tab_total['conversion'] = round(tab_total.paying_users/tab_total.users ,4)\n",
    "tab_total"
   ]
  },
  {
   "cell_type": "code",
   "execution_count": 717,
   "metadata": {
    "ExecuteTime": {
     "end_time": "2021-04-04T14:35:10.007557Z",
     "start_time": "2021-04-04T14:35:09.953695Z"
    }
   },
   "outputs": [
    {
     "name": "stdout",
     "output_type": "stream",
     "text": [
      "p-value по критерию Хи-квадрат:\n"
     ]
    },
    {
     "data": {
      "text/plain": [
       "0.24753952634241588"
      ]
     },
     "execution_count": 717,
     "metadata": {},
     "output_type": "execute_result"
    }
   ],
   "source": [
    "print('p-value по критерию Хи-квадрат:')\n",
    "\n",
    "chi2_contingency([[total_19-buy_after_release,buy_after_release],\n",
    "                  [total_not_19-buy_before_release,buy_before_release]])[1]\n"
   ]
  },
  {
   "cell_type": "code",
   "execution_count": 732,
   "metadata": {
    "ExecuteTime": {
     "end_time": "2021-04-04T14:49:33.162934Z",
     "start_time": "2021-04-04T14:49:33.137481Z"
    },
    "code_folding": [
     0
    ]
   },
   "outputs": [
    {
     "data": {
      "text/html": [
       "<div>\n",
       "<style scoped>\n",
       "    .dataframe tbody tr th:only-of-type {\n",
       "        vertical-align: middle;\n",
       "    }\n",
       "\n",
       "    .dataframe tbody tr th {\n",
       "        vertical-align: top;\n",
       "    }\n",
       "\n",
       "    .dataframe thead th {\n",
       "        text-align: right;\n",
       "    }\n",
       "</style>\n",
       "<table border=\"1\" class=\"dataframe\">\n",
       "  <thead>\n",
       "    <tr style=\"text-align: right;\">\n",
       "      <th></th>\n",
       "      <th>user_filter</th>\n",
       "      <th>users</th>\n",
       "      <th>paying_users</th>\n",
       "      <th>conversion</th>\n",
       "    </tr>\n",
       "  </thead>\n",
       "  <tbody>\n",
       "    <tr>\n",
       "      <th>0</th>\n",
       "      <td>ДО эксперимента iOS</td>\n",
       "      <td>1419</td>\n",
       "      <td>104</td>\n",
       "      <td>0.0733</td>\n",
       "    </tr>\n",
       "    <tr>\n",
       "      <th>1</th>\n",
       "      <td>ДО эксперимента Android</td>\n",
       "      <td>3219</td>\n",
       "      <td>77</td>\n",
       "      <td>0.0239</td>\n",
       "    </tr>\n",
       "    <tr>\n",
       "      <th>2</th>\n",
       "      <td>ПОСЛЕ эксперимента iOS</td>\n",
       "      <td>0</td>\n",
       "      <td>0</td>\n",
       "      <td>NaN</td>\n",
       "    </tr>\n",
       "    <tr>\n",
       "      <th>3</th>\n",
       "      <td>ПОСЛЕ эксперимента Android</td>\n",
       "      <td>1307</td>\n",
       "      <td>61</td>\n",
       "      <td>0.0467</td>\n",
       "    </tr>\n",
       "  </tbody>\n",
       "</table>\n",
       "</div>"
      ],
      "text/plain": [
       "                  user_filter  users  paying_users  conversion\n",
       "0         ДО эксперимента iOS   1419           104      0.0733\n",
       "1     ДО эксперимента Android   3219            77      0.0239\n",
       "2      ПОСЛЕ эксперимента iOS      0             0         NaN\n",
       "3  ПОСЛЕ эксперимента Android   1307            61      0.0467"
      ]
     },
     "execution_count": 732,
     "metadata": {},
     "output_type": "execute_result"
    }
   ],
   "source": [
    "# данные\n",
    "cols = ['user_filter','users','paying_users']\n",
    "list_of_series = [pd.Series(['ДО эксперимента iOS',total_not_19_iOS,buy_before_release_iOS],index=cols), \n",
    "                  pd.Series(['ДО эксперимента Android',total_not_19_Android,buy_before_release_Android],index=cols), \n",
    "                  pd.Series(['ПОСЛЕ эксперимента iOS',total_19_iOS,buy_after_release_iOS],index=cols), \n",
    "                  pd.Series(['ПОСЛЕ эксперимента Android',total_19_Android,buy_after_release_Android],index=cols)]\n",
    "                  \n",
    "tab_platform_ver = pd.DataFrame(list_of_series, columns=cols)\n",
    "\n",
    "tab_platform_ver['conversion'] = round(tab_platform_ver.paying_users/tab_platform_ver.users ,4)\n",
    "tab_platform_ver\n"
   ]
  },
  {
   "cell_type": "code",
   "execution_count": 720,
   "metadata": {
    "ExecuteTime": {
     "end_time": "2021-04-04T14:35:19.926102Z",
     "start_time": "2021-04-04T14:35:19.914593Z"
    },
    "code_folding": []
   },
   "outputs": [
    {
     "name": "stdout",
     "output_type": "stream",
     "text": [
      "p-value по критерию Хи-квадрат:\n"
     ]
    },
    {
     "data": {
      "text/plain": [
       "'0.00008178'"
      ]
     },
     "execution_count": 720,
     "metadata": {},
     "output_type": "execute_result"
    }
   ],
   "source": [
    "# Android\n",
    "from scipy.stats import chi2_contingency\n",
    "\n",
    "print('p-value по критерию Хи-квадрат:')\n",
    "\n",
    "'%.8f' % chi2_contingency([[total_19_Android-buy_after_release_Android,buy_after_release_Android],\n",
    "                  [total_not_19_Android-buy_before_release_Android,buy_before_release_Android]])[1]\n"
   ]
  },
  {
   "cell_type": "code",
   "execution_count": 721,
   "metadata": {
    "ExecuteTime": {
     "end_time": "2021-04-04T14:35:25.588603Z",
     "start_time": "2021-04-04T14:35:25.562119Z"
    },
    "code_folding": [
     0
    ]
   },
   "outputs": [
    {
     "name": "stdout",
     "output_type": "stream",
     "text": [
      "p-value по точному критерию Фишера:\n"
     ]
    },
    {
     "data": {
      "text/plain": [
       "'0.00011706'"
      ]
     },
     "execution_count": 721,
     "metadata": {},
     "output_type": "execute_result"
    }
   ],
   "source": [
    "# Android\n",
    "import scipy.stats as stats\n",
    "\n",
    "print('p-value по точному критерию Фишера:')\n",
    "\n",
    "'%.8f' % stats.fisher_exact([[total_19_Android-buy_after_release_Android,buy_after_release_Android],\n",
    "                  [total_not_19_Android-buy_before_release_Android,buy_before_release_Android]])[1]\n"
   ]
  },
  {
   "cell_type": "markdown",
   "metadata": {},
   "source": [
    "# Каналы привлечения и юнит-экономика"
   ]
  },
  {
   "cell_type": "code",
   "execution_count": 764,
   "metadata": {
    "ExecuteTime": {
     "end_time": "2021-04-04T17:30:47.149431Z",
     "start_time": "2021-04-04T17:30:47.064956Z"
    },
    "code_folding": [
     0
    ]
   },
   "outputs": [],
   "source": [
    "# данные по всем платформам\n",
    "sources = (sign['MEDIA_SOURCE'].value_counts().reset_index()\n",
    " .rename(columns={'index':'source', 'MEDIA_SOURCE':'total_users'})\n",
    " .merge((sign[(sign['gp:USER_ID'].isin(payments.Email))]['MEDIA_SOURCE']\n",
    "         .value_counts().reset_index()\n",
    "         .rename(columns={'index':'source', 'MEDIA_SOURCE':'paying_users'})), how='left',on='source')\n",
    ")\n",
    "\n",
    "sources = sources.fillna(0)\n",
    "sources.paying_users = sources.paying_users.astype('int')\n",
    "\n",
    "sources['share_of_source'] = round(sources.total_users / sources.total_users.sum(), 3)\n",
    "\n",
    "sources['conversion'] = round(sources.paying_users / sources.total_users, 3)\n",
    "\n",
    "sources_revenue = (sign.merge(payments, left_on='gp:USER_ID', right_on='Email')\n",
    " .groupby('MEDIA_SOURCE')['Amount'].sum().reset_index())\n",
    "\n",
    "\n",
    "sources = sources.merge(sources_revenue, how='left', left_on='source', right_on='MEDIA_SOURCE').fillna(0)\n",
    "\n",
    "sources.rename(columns={'Amount': 'revenue_by_source'}, inplace=True)\n",
    "\n",
    "sources = sources[['source','total_users','share_of_source',\n",
    "         'paying_users','conversion','revenue_by_source']]\n",
    "\n",
    "sources['ARPU'] = round(sources.revenue_by_source / sources.total_users, 2)\n",
    "sources['ARPPU'] = round(sources.revenue_by_source / sources.paying_users, 2)\n"
   ]
  },
  {
   "cell_type": "code",
   "execution_count": 778,
   "metadata": {
    "ExecuteTime": {
     "end_time": "2021-04-04T17:36:08.965506Z",
     "start_time": "2021-04-04T17:36:08.933913Z"
    }
   },
   "outputs": [
    {
     "data": {
      "text/html": [
       "<div>\n",
       "<style scoped>\n",
       "    .dataframe tbody tr th:only-of-type {\n",
       "        vertical-align: middle;\n",
       "    }\n",
       "\n",
       "    .dataframe tbody tr th {\n",
       "        vertical-align: top;\n",
       "    }\n",
       "\n",
       "    .dataframe thead th {\n",
       "        text-align: right;\n",
       "    }\n",
       "</style>\n",
       "<table border=\"1\" class=\"dataframe\">\n",
       "  <thead>\n",
       "    <tr style=\"text-align: right;\">\n",
       "      <th></th>\n",
       "      <th>source</th>\n",
       "      <th>total_users</th>\n",
       "      <th>share_of_source</th>\n",
       "      <th>paying_users</th>\n",
       "      <th>conversion</th>\n",
       "      <th>revenue_by_source</th>\n",
       "      <th>ARPU</th>\n",
       "      <th>ARPPU</th>\n",
       "    </tr>\n",
       "  </thead>\n",
       "  <tbody>\n",
       "    <tr>\n",
       "      <th>18</th>\n",
       "      <td>None</td>\n",
       "      <td>1</td>\n",
       "      <td>0.000</td>\n",
       "      <td>1</td>\n",
       "      <td>1.000</td>\n",
       "      <td>53.50</td>\n",
       "      <td>53.50</td>\n",
       "      <td>53.50</td>\n",
       "    </tr>\n",
       "    <tr>\n",
       "      <th>2</th>\n",
       "      <td>landing</td>\n",
       "      <td>259</td>\n",
       "      <td>0.041</td>\n",
       "      <td>33</td>\n",
       "      <td>0.127</td>\n",
       "      <td>8858.35</td>\n",
       "      <td>34.20</td>\n",
       "      <td>268.43</td>\n",
       "    </tr>\n",
       "    <tr>\n",
       "      <th>9</th>\n",
       "      <td>Blog</td>\n",
       "      <td>67</td>\n",
       "      <td>0.011</td>\n",
       "      <td>11</td>\n",
       "      <td>0.164</td>\n",
       "      <td>1574.64</td>\n",
       "      <td>23.50</td>\n",
       "      <td>143.15</td>\n",
       "    </tr>\n",
       "    <tr>\n",
       "      <th>5</th>\n",
       "      <td>QR_code</td>\n",
       "      <td>180</td>\n",
       "      <td>0.028</td>\n",
       "      <td>31</td>\n",
       "      <td>0.172</td>\n",
       "      <td>2532.93</td>\n",
       "      <td>14.07</td>\n",
       "      <td>81.71</td>\n",
       "    </tr>\n",
       "    <tr>\n",
       "      <th>3</th>\n",
       "      <td>landing_email</td>\n",
       "      <td>230</td>\n",
       "      <td>0.036</td>\n",
       "      <td>30</td>\n",
       "      <td>0.130</td>\n",
       "      <td>2300.94</td>\n",
       "      <td>10.00</td>\n",
       "      <td>76.70</td>\n",
       "    </tr>\n",
       "    <tr>\n",
       "      <th>4</th>\n",
       "      <td>Cindicator Website</td>\n",
       "      <td>215</td>\n",
       "      <td>0.034</td>\n",
       "      <td>18</td>\n",
       "      <td>0.084</td>\n",
       "      <td>1342.92</td>\n",
       "      <td>6.25</td>\n",
       "      <td>74.61</td>\n",
       "    </tr>\n",
       "    <tr>\n",
       "      <th>7</th>\n",
       "      <td>Cross_sale</td>\n",
       "      <td>142</td>\n",
       "      <td>0.022</td>\n",
       "      <td>5</td>\n",
       "      <td>0.035</td>\n",
       "      <td>846.36</td>\n",
       "      <td>5.96</td>\n",
       "      <td>169.27</td>\n",
       "    </tr>\n",
       "    <tr>\n",
       "      <th>1</th>\n",
       "      <td>unknown</td>\n",
       "      <td>2355</td>\n",
       "      <td>0.370</td>\n",
       "      <td>104</td>\n",
       "      <td>0.044</td>\n",
       "      <td>12437.53</td>\n",
       "      <td>5.28</td>\n",
       "      <td>119.59</td>\n",
       "    </tr>\n",
       "    <tr>\n",
       "      <th>11</th>\n",
       "      <td>Telegram Promo</td>\n",
       "      <td>24</td>\n",
       "      <td>0.004</td>\n",
       "      <td>2</td>\n",
       "      <td>0.083</td>\n",
       "      <td>125.00</td>\n",
       "      <td>5.21</td>\n",
       "      <td>62.50</td>\n",
       "    </tr>\n",
       "    <tr>\n",
       "      <th>10</th>\n",
       "      <td>Social_twitter</td>\n",
       "      <td>41</td>\n",
       "      <td>0.006</td>\n",
       "      <td>1</td>\n",
       "      <td>0.024</td>\n",
       "      <td>200.00</td>\n",
       "      <td>4.88</td>\n",
       "      <td>200.00</td>\n",
       "    </tr>\n",
       "    <tr>\n",
       "      <th>6</th>\n",
       "      <td>Apple Search Ads</td>\n",
       "      <td>170</td>\n",
       "      <td>0.027</td>\n",
       "      <td>4</td>\n",
       "      <td>0.024</td>\n",
       "      <td>507.95</td>\n",
       "      <td>2.99</td>\n",
       "      <td>126.99</td>\n",
       "    </tr>\n",
       "    <tr>\n",
       "      <th>0</th>\n",
       "      <td>bidease_int</td>\n",
       "      <td>2546</td>\n",
       "      <td>0.400</td>\n",
       "      <td>2</td>\n",
       "      <td>0.001</td>\n",
       "      <td>102.21</td>\n",
       "      <td>0.04</td>\n",
       "      <td>51.10</td>\n",
       "    </tr>\n",
       "    <tr>\n",
       "      <th>8</th>\n",
       "      <td>Binance</td>\n",
       "      <td>100</td>\n",
       "      <td>0.016</td>\n",
       "      <td>0</td>\n",
       "      <td>0.000</td>\n",
       "      <td>0.00</td>\n",
       "      <td>0.00</td>\n",
       "      <td>NaN</td>\n",
       "    </tr>\n",
       "    <tr>\n",
       "      <th>12</th>\n",
       "      <td>mail.ru_int</td>\n",
       "      <td>13</td>\n",
       "      <td>0.002</td>\n",
       "      <td>0</td>\n",
       "      <td>0.000</td>\n",
       "      <td>0.00</td>\n",
       "      <td>0.00</td>\n",
       "      <td>NaN</td>\n",
       "    </tr>\n",
       "    <tr>\n",
       "      <th>13</th>\n",
       "      <td>Tik Tok</td>\n",
       "      <td>9</td>\n",
       "      <td>0.001</td>\n",
       "      <td>0</td>\n",
       "      <td>0.000</td>\n",
       "      <td>0.00</td>\n",
       "      <td>0.00</td>\n",
       "      <td>NaN</td>\n",
       "    </tr>\n",
       "    <tr>\n",
       "      <th>14</th>\n",
       "      <td>blockfolio</td>\n",
       "      <td>4</td>\n",
       "      <td>0.001</td>\n",
       "      <td>0</td>\n",
       "      <td>0.000</td>\n",
       "      <td>0.00</td>\n",
       "      <td>0.00</td>\n",
       "      <td>NaN</td>\n",
       "    </tr>\n",
       "    <tr>\n",
       "      <th>15</th>\n",
       "      <td>Social_facebook</td>\n",
       "      <td>4</td>\n",
       "      <td>0.001</td>\n",
       "      <td>0</td>\n",
       "      <td>0.000</td>\n",
       "      <td>0.00</td>\n",
       "      <td>0.00</td>\n",
       "      <td>NaN</td>\n",
       "    </tr>\n",
       "    <tr>\n",
       "      <th>16</th>\n",
       "      <td>medium</td>\n",
       "      <td>1</td>\n",
       "      <td>0.000</td>\n",
       "      <td>0</td>\n",
       "      <td>0.000</td>\n",
       "      <td>0.00</td>\n",
       "      <td>0.00</td>\n",
       "      <td>NaN</td>\n",
       "    </tr>\n",
       "    <tr>\n",
       "      <th>17</th>\n",
       "      <td>cointraffic</td>\n",
       "      <td>1</td>\n",
       "      <td>0.000</td>\n",
       "      <td>0</td>\n",
       "      <td>0.000</td>\n",
       "      <td>0.00</td>\n",
       "      <td>0.00</td>\n",
       "      <td>NaN</td>\n",
       "    </tr>\n",
       "  </tbody>\n",
       "</table>\n",
       "</div>"
      ],
      "text/plain": [
       "                source  total_users  share_of_source  paying_users  \\\n",
       "18                None            1            0.000             1   \n",
       "2              landing          259            0.041            33   \n",
       "9                 Blog           67            0.011            11   \n",
       "5              QR_code          180            0.028            31   \n",
       "3        landing_email          230            0.036            30   \n",
       "4   Cindicator Website          215            0.034            18   \n",
       "7           Cross_sale          142            0.022             5   \n",
       "1              unknown         2355            0.370           104   \n",
       "11      Telegram Promo           24            0.004             2   \n",
       "10      Social_twitter           41            0.006             1   \n",
       "6     Apple Search Ads          170            0.027             4   \n",
       "0          bidease_int         2546            0.400             2   \n",
       "8              Binance          100            0.016             0   \n",
       "12         mail.ru_int           13            0.002             0   \n",
       "13             Tik Tok            9            0.001             0   \n",
       "14          blockfolio            4            0.001             0   \n",
       "15     Social_facebook            4            0.001             0   \n",
       "16              medium            1            0.000             0   \n",
       "17         cointraffic            1            0.000             0   \n",
       "\n",
       "    conversion  revenue_by_source   ARPU   ARPPU  \n",
       "18       1.000              53.50  53.50   53.50  \n",
       "2        0.127            8858.35  34.20  268.43  \n",
       "9        0.164            1574.64  23.50  143.15  \n",
       "5        0.172            2532.93  14.07   81.71  \n",
       "3        0.130            2300.94  10.00   76.70  \n",
       "4        0.084            1342.92   6.25   74.61  \n",
       "7        0.035             846.36   5.96  169.27  \n",
       "1        0.044           12437.53   5.28  119.59  \n",
       "11       0.083             125.00   5.21   62.50  \n",
       "10       0.024             200.00   4.88  200.00  \n",
       "6        0.024             507.95   2.99  126.99  \n",
       "0        0.001             102.21   0.04   51.10  \n",
       "8        0.000               0.00   0.00     NaN  \n",
       "12       0.000               0.00   0.00     NaN  \n",
       "13       0.000               0.00   0.00     NaN  \n",
       "14       0.000               0.00   0.00     NaN  \n",
       "15       0.000               0.00   0.00     NaN  \n",
       "16       0.000               0.00   0.00     NaN  \n",
       "17       0.000               0.00   0.00     NaN  "
      ]
     },
     "execution_count": 778,
     "metadata": {},
     "output_type": "execute_result"
    }
   ],
   "source": [
    "sources.sort_values('ARPU',ascending=False)"
   ]
  },
  {
   "cell_type": "markdown",
   "metadata": {},
   "source": [
    "Сортируя по ARPU видим, что каналы с наивысшим доходом на привлеченного юзера: landing, Blog, QR_code, landing_email (для None слишком мало данных для оценки)\n",
    "\n",
    "Но эти каналы занимают очень маленькую долю от всего трафика, нужно расширять воронку для этих каналов.\n"
   ]
  },
  {
   "cell_type": "code",
   "execution_count": 741,
   "metadata": {
    "ExecuteTime": {
     "end_time": "2021-04-04T15:16:50.720445Z",
     "start_time": "2021-04-04T15:16:50.474067Z"
    },
    "code_folding": [
     0
    ]
   },
   "outputs": [
    {
     "data": {
      "application/vnd.plotly.v1+json": {
       "config": {
        "plotlyServerURL": "https://plot.ly"
       },
       "data": [
        {
         "labels": [
          "bidease_int",
          "unknown",
          "landing",
          "landing_email",
          "Cindicator Website",
          "QR_code",
          "Apple Search Ads",
          "Cross_sale",
          "Binance",
          "Blog",
          "Social_twitter",
          "Telegram Promo",
          "mail.ru_int",
          "Tik Tok",
          "blockfolio",
          "Social_facebook"
         ],
         "type": "pie",
         "values": [
          0.4,
          0.37,
          0.041,
          0.036,
          0.034,
          0.028,
          0.027,
          0.022,
          0.016,
          0.011,
          0.006,
          0.004,
          0.002,
          0.001,
          0.001,
          0.001
         ]
        }
       ],
       "layout": {
        "template": {
         "data": {
          "bar": [
           {
            "error_x": {
             "color": "#2a3f5f"
            },
            "error_y": {
             "color": "#2a3f5f"
            },
            "marker": {
             "line": {
              "color": "#E5ECF6",
              "width": 0.5
             }
            },
            "type": "bar"
           }
          ],
          "barpolar": [
           {
            "marker": {
             "line": {
              "color": "#E5ECF6",
              "width": 0.5
             }
            },
            "type": "barpolar"
           }
          ],
          "carpet": [
           {
            "aaxis": {
             "endlinecolor": "#2a3f5f",
             "gridcolor": "white",
             "linecolor": "white",
             "minorgridcolor": "white",
             "startlinecolor": "#2a3f5f"
            },
            "baxis": {
             "endlinecolor": "#2a3f5f",
             "gridcolor": "white",
             "linecolor": "white",
             "minorgridcolor": "white",
             "startlinecolor": "#2a3f5f"
            },
            "type": "carpet"
           }
          ],
          "choropleth": [
           {
            "colorbar": {
             "outlinewidth": 0,
             "ticks": ""
            },
            "type": "choropleth"
           }
          ],
          "contour": [
           {
            "colorbar": {
             "outlinewidth": 0,
             "ticks": ""
            },
            "colorscale": [
             [
              0,
              "#0d0887"
             ],
             [
              0.1111111111111111,
              "#46039f"
             ],
             [
              0.2222222222222222,
              "#7201a8"
             ],
             [
              0.3333333333333333,
              "#9c179e"
             ],
             [
              0.4444444444444444,
              "#bd3786"
             ],
             [
              0.5555555555555556,
              "#d8576b"
             ],
             [
              0.6666666666666666,
              "#ed7953"
             ],
             [
              0.7777777777777778,
              "#fb9f3a"
             ],
             [
              0.8888888888888888,
              "#fdca26"
             ],
             [
              1,
              "#f0f921"
             ]
            ],
            "type": "contour"
           }
          ],
          "contourcarpet": [
           {
            "colorbar": {
             "outlinewidth": 0,
             "ticks": ""
            },
            "type": "contourcarpet"
           }
          ],
          "heatmap": [
           {
            "colorbar": {
             "outlinewidth": 0,
             "ticks": ""
            },
            "colorscale": [
             [
              0,
              "#0d0887"
             ],
             [
              0.1111111111111111,
              "#46039f"
             ],
             [
              0.2222222222222222,
              "#7201a8"
             ],
             [
              0.3333333333333333,
              "#9c179e"
             ],
             [
              0.4444444444444444,
              "#bd3786"
             ],
             [
              0.5555555555555556,
              "#d8576b"
             ],
             [
              0.6666666666666666,
              "#ed7953"
             ],
             [
              0.7777777777777778,
              "#fb9f3a"
             ],
             [
              0.8888888888888888,
              "#fdca26"
             ],
             [
              1,
              "#f0f921"
             ]
            ],
            "type": "heatmap"
           }
          ],
          "heatmapgl": [
           {
            "colorbar": {
             "outlinewidth": 0,
             "ticks": ""
            },
            "colorscale": [
             [
              0,
              "#0d0887"
             ],
             [
              0.1111111111111111,
              "#46039f"
             ],
             [
              0.2222222222222222,
              "#7201a8"
             ],
             [
              0.3333333333333333,
              "#9c179e"
             ],
             [
              0.4444444444444444,
              "#bd3786"
             ],
             [
              0.5555555555555556,
              "#d8576b"
             ],
             [
              0.6666666666666666,
              "#ed7953"
             ],
             [
              0.7777777777777778,
              "#fb9f3a"
             ],
             [
              0.8888888888888888,
              "#fdca26"
             ],
             [
              1,
              "#f0f921"
             ]
            ],
            "type": "heatmapgl"
           }
          ],
          "histogram": [
           {
            "marker": {
             "colorbar": {
              "outlinewidth": 0,
              "ticks": ""
             }
            },
            "type": "histogram"
           }
          ],
          "histogram2d": [
           {
            "colorbar": {
             "outlinewidth": 0,
             "ticks": ""
            },
            "colorscale": [
             [
              0,
              "#0d0887"
             ],
             [
              0.1111111111111111,
              "#46039f"
             ],
             [
              0.2222222222222222,
              "#7201a8"
             ],
             [
              0.3333333333333333,
              "#9c179e"
             ],
             [
              0.4444444444444444,
              "#bd3786"
             ],
             [
              0.5555555555555556,
              "#d8576b"
             ],
             [
              0.6666666666666666,
              "#ed7953"
             ],
             [
              0.7777777777777778,
              "#fb9f3a"
             ],
             [
              0.8888888888888888,
              "#fdca26"
             ],
             [
              1,
              "#f0f921"
             ]
            ],
            "type": "histogram2d"
           }
          ],
          "histogram2dcontour": [
           {
            "colorbar": {
             "outlinewidth": 0,
             "ticks": ""
            },
            "colorscale": [
             [
              0,
              "#0d0887"
             ],
             [
              0.1111111111111111,
              "#46039f"
             ],
             [
              0.2222222222222222,
              "#7201a8"
             ],
             [
              0.3333333333333333,
              "#9c179e"
             ],
             [
              0.4444444444444444,
              "#bd3786"
             ],
             [
              0.5555555555555556,
              "#d8576b"
             ],
             [
              0.6666666666666666,
              "#ed7953"
             ],
             [
              0.7777777777777778,
              "#fb9f3a"
             ],
             [
              0.8888888888888888,
              "#fdca26"
             ],
             [
              1,
              "#f0f921"
             ]
            ],
            "type": "histogram2dcontour"
           }
          ],
          "mesh3d": [
           {
            "colorbar": {
             "outlinewidth": 0,
             "ticks": ""
            },
            "type": "mesh3d"
           }
          ],
          "parcoords": [
           {
            "line": {
             "colorbar": {
              "outlinewidth": 0,
              "ticks": ""
             }
            },
            "type": "parcoords"
           }
          ],
          "pie": [
           {
            "automargin": true,
            "type": "pie"
           }
          ],
          "scatter": [
           {
            "marker": {
             "colorbar": {
              "outlinewidth": 0,
              "ticks": ""
             }
            },
            "type": "scatter"
           }
          ],
          "scatter3d": [
           {
            "line": {
             "colorbar": {
              "outlinewidth": 0,
              "ticks": ""
             }
            },
            "marker": {
             "colorbar": {
              "outlinewidth": 0,
              "ticks": ""
             }
            },
            "type": "scatter3d"
           }
          ],
          "scattercarpet": [
           {
            "marker": {
             "colorbar": {
              "outlinewidth": 0,
              "ticks": ""
             }
            },
            "type": "scattercarpet"
           }
          ],
          "scattergeo": [
           {
            "marker": {
             "colorbar": {
              "outlinewidth": 0,
              "ticks": ""
             }
            },
            "type": "scattergeo"
           }
          ],
          "scattergl": [
           {
            "marker": {
             "colorbar": {
              "outlinewidth": 0,
              "ticks": ""
             }
            },
            "type": "scattergl"
           }
          ],
          "scattermapbox": [
           {
            "marker": {
             "colorbar": {
              "outlinewidth": 0,
              "ticks": ""
             }
            },
            "type": "scattermapbox"
           }
          ],
          "scatterpolar": [
           {
            "marker": {
             "colorbar": {
              "outlinewidth": 0,
              "ticks": ""
             }
            },
            "type": "scatterpolar"
           }
          ],
          "scatterpolargl": [
           {
            "marker": {
             "colorbar": {
              "outlinewidth": 0,
              "ticks": ""
             }
            },
            "type": "scatterpolargl"
           }
          ],
          "scatterternary": [
           {
            "marker": {
             "colorbar": {
              "outlinewidth": 0,
              "ticks": ""
             }
            },
            "type": "scatterternary"
           }
          ],
          "surface": [
           {
            "colorbar": {
             "outlinewidth": 0,
             "ticks": ""
            },
            "colorscale": [
             [
              0,
              "#0d0887"
             ],
             [
              0.1111111111111111,
              "#46039f"
             ],
             [
              0.2222222222222222,
              "#7201a8"
             ],
             [
              0.3333333333333333,
              "#9c179e"
             ],
             [
              0.4444444444444444,
              "#bd3786"
             ],
             [
              0.5555555555555556,
              "#d8576b"
             ],
             [
              0.6666666666666666,
              "#ed7953"
             ],
             [
              0.7777777777777778,
              "#fb9f3a"
             ],
             [
              0.8888888888888888,
              "#fdca26"
             ],
             [
              1,
              "#f0f921"
             ]
            ],
            "type": "surface"
           }
          ],
          "table": [
           {
            "cells": {
             "fill": {
              "color": "#EBF0F8"
             },
             "line": {
              "color": "white"
             }
            },
            "header": {
             "fill": {
              "color": "#C8D4E3"
             },
             "line": {
              "color": "white"
             }
            },
            "type": "table"
           }
          ]
         },
         "layout": {
          "annotationdefaults": {
           "arrowcolor": "#2a3f5f",
           "arrowhead": 0,
           "arrowwidth": 1
          },
          "coloraxis": {
           "colorbar": {
            "outlinewidth": 0,
            "ticks": ""
           }
          },
          "colorscale": {
           "diverging": [
            [
             0,
             "#8e0152"
            ],
            [
             0.1,
             "#c51b7d"
            ],
            [
             0.2,
             "#de77ae"
            ],
            [
             0.3,
             "#f1b6da"
            ],
            [
             0.4,
             "#fde0ef"
            ],
            [
             0.5,
             "#f7f7f7"
            ],
            [
             0.6,
             "#e6f5d0"
            ],
            [
             0.7,
             "#b8e186"
            ],
            [
             0.8,
             "#7fbc41"
            ],
            [
             0.9,
             "#4d9221"
            ],
            [
             1,
             "#276419"
            ]
           ],
           "sequential": [
            [
             0,
             "#0d0887"
            ],
            [
             0.1111111111111111,
             "#46039f"
            ],
            [
             0.2222222222222222,
             "#7201a8"
            ],
            [
             0.3333333333333333,
             "#9c179e"
            ],
            [
             0.4444444444444444,
             "#bd3786"
            ],
            [
             0.5555555555555556,
             "#d8576b"
            ],
            [
             0.6666666666666666,
             "#ed7953"
            ],
            [
             0.7777777777777778,
             "#fb9f3a"
            ],
            [
             0.8888888888888888,
             "#fdca26"
            ],
            [
             1,
             "#f0f921"
            ]
           ],
           "sequentialminus": [
            [
             0,
             "#0d0887"
            ],
            [
             0.1111111111111111,
             "#46039f"
            ],
            [
             0.2222222222222222,
             "#7201a8"
            ],
            [
             0.3333333333333333,
             "#9c179e"
            ],
            [
             0.4444444444444444,
             "#bd3786"
            ],
            [
             0.5555555555555556,
             "#d8576b"
            ],
            [
             0.6666666666666666,
             "#ed7953"
            ],
            [
             0.7777777777777778,
             "#fb9f3a"
            ],
            [
             0.8888888888888888,
             "#fdca26"
            ],
            [
             1,
             "#f0f921"
            ]
           ]
          },
          "colorway": [
           "#636efa",
           "#EF553B",
           "#00cc96",
           "#ab63fa",
           "#FFA15A",
           "#19d3f3",
           "#FF6692",
           "#B6E880",
           "#FF97FF",
           "#FECB52"
          ],
          "font": {
           "color": "#2a3f5f"
          },
          "geo": {
           "bgcolor": "white",
           "lakecolor": "white",
           "landcolor": "#E5ECF6",
           "showlakes": true,
           "showland": true,
           "subunitcolor": "white"
          },
          "hoverlabel": {
           "align": "left"
          },
          "hovermode": "closest",
          "mapbox": {
           "style": "light"
          },
          "paper_bgcolor": "white",
          "plot_bgcolor": "#E5ECF6",
          "polar": {
           "angularaxis": {
            "gridcolor": "white",
            "linecolor": "white",
            "ticks": ""
           },
           "bgcolor": "#E5ECF6",
           "radialaxis": {
            "gridcolor": "white",
            "linecolor": "white",
            "ticks": ""
           }
          },
          "scene": {
           "xaxis": {
            "backgroundcolor": "#E5ECF6",
            "gridcolor": "white",
            "gridwidth": 2,
            "linecolor": "white",
            "showbackground": true,
            "ticks": "",
            "zerolinecolor": "white"
           },
           "yaxis": {
            "backgroundcolor": "#E5ECF6",
            "gridcolor": "white",
            "gridwidth": 2,
            "linecolor": "white",
            "showbackground": true,
            "ticks": "",
            "zerolinecolor": "white"
           },
           "zaxis": {
            "backgroundcolor": "#E5ECF6",
            "gridcolor": "white",
            "gridwidth": 2,
            "linecolor": "white",
            "showbackground": true,
            "ticks": "",
            "zerolinecolor": "white"
           }
          },
          "shapedefaults": {
           "line": {
            "color": "#2a3f5f"
           }
          },
          "ternary": {
           "aaxis": {
            "gridcolor": "white",
            "linecolor": "white",
            "ticks": ""
           },
           "baxis": {
            "gridcolor": "white",
            "linecolor": "white",
            "ticks": ""
           },
           "bgcolor": "#E5ECF6",
           "caxis": {
            "gridcolor": "white",
            "linecolor": "white",
            "ticks": ""
           }
          },
          "title": {
           "x": 0.05
          },
          "xaxis": {
           "automargin": true,
           "gridcolor": "white",
           "linecolor": "white",
           "ticks": "",
           "title": {
            "standoff": 15
           },
           "zerolinecolor": "white",
           "zerolinewidth": 2
          },
          "yaxis": {
           "automargin": true,
           "gridcolor": "white",
           "linecolor": "white",
           "ticks": "",
           "title": {
            "standoff": 15
           },
           "zerolinecolor": "white",
           "zerolinewidth": 2
          }
         }
        }
       }
      },
      "text/html": [
       "<div>\n",
       "        \n",
       "        \n",
       "            <div id=\"ada54708-ea6a-4c80-b699-be70de04c3da\" class=\"plotly-graph-div\" style=\"height:525px; width:100%;\"></div>\n",
       "            <script type=\"text/javascript\">\n",
       "                require([\"plotly\"], function(Plotly) {\n",
       "                    window.PLOTLYENV=window.PLOTLYENV || {};\n",
       "                    \n",
       "                if (document.getElementById(\"ada54708-ea6a-4c80-b699-be70de04c3da\")) {\n",
       "                    Plotly.newPlot(\n",
       "                        'ada54708-ea6a-4c80-b699-be70de04c3da',\n",
       "                        [{\"labels\": [\"bidease_int\", \"unknown\", \"landing\", \"landing_email\", \"Cindicator Website\", \"QR_code\", \"Apple Search Ads\", \"Cross_sale\", \"Binance\", \"Blog\", \"Social_twitter\", \"Telegram Promo\", \"mail.ru_int\", \"Tik Tok\", \"blockfolio\", \"Social_facebook\"], \"type\": \"pie\", \"values\": [0.4, 0.37, 0.041, 0.036, 0.034, 0.028, 0.027, 0.022, 0.016, 0.011, 0.006, 0.004, 0.002, 0.001, 0.001, 0.001]}],\n",
       "                        {\"template\": {\"data\": {\"bar\": [{\"error_x\": {\"color\": \"#2a3f5f\"}, \"error_y\": {\"color\": \"#2a3f5f\"}, \"marker\": {\"line\": {\"color\": \"#E5ECF6\", \"width\": 0.5}}, \"type\": \"bar\"}], \"barpolar\": [{\"marker\": {\"line\": {\"color\": \"#E5ECF6\", \"width\": 0.5}}, \"type\": \"barpolar\"}], \"carpet\": [{\"aaxis\": {\"endlinecolor\": \"#2a3f5f\", \"gridcolor\": \"white\", \"linecolor\": \"white\", \"minorgridcolor\": \"white\", \"startlinecolor\": \"#2a3f5f\"}, \"baxis\": {\"endlinecolor\": \"#2a3f5f\", \"gridcolor\": \"white\", \"linecolor\": \"white\", \"minorgridcolor\": \"white\", \"startlinecolor\": \"#2a3f5f\"}, \"type\": \"carpet\"}], \"choropleth\": [{\"colorbar\": {\"outlinewidth\": 0, \"ticks\": \"\"}, \"type\": \"choropleth\"}], \"contour\": [{\"colorbar\": {\"outlinewidth\": 0, \"ticks\": \"\"}, \"colorscale\": [[0.0, \"#0d0887\"], [0.1111111111111111, \"#46039f\"], [0.2222222222222222, \"#7201a8\"], [0.3333333333333333, \"#9c179e\"], [0.4444444444444444, \"#bd3786\"], [0.5555555555555556, \"#d8576b\"], [0.6666666666666666, \"#ed7953\"], [0.7777777777777778, \"#fb9f3a\"], [0.8888888888888888, \"#fdca26\"], [1.0, \"#f0f921\"]], \"type\": \"contour\"}], \"contourcarpet\": [{\"colorbar\": {\"outlinewidth\": 0, \"ticks\": \"\"}, \"type\": \"contourcarpet\"}], \"heatmap\": [{\"colorbar\": {\"outlinewidth\": 0, \"ticks\": \"\"}, \"colorscale\": [[0.0, \"#0d0887\"], [0.1111111111111111, \"#46039f\"], [0.2222222222222222, \"#7201a8\"], [0.3333333333333333, \"#9c179e\"], [0.4444444444444444, \"#bd3786\"], [0.5555555555555556, \"#d8576b\"], [0.6666666666666666, \"#ed7953\"], [0.7777777777777778, \"#fb9f3a\"], [0.8888888888888888, \"#fdca26\"], [1.0, \"#f0f921\"]], \"type\": \"heatmap\"}], \"heatmapgl\": [{\"colorbar\": {\"outlinewidth\": 0, \"ticks\": \"\"}, \"colorscale\": [[0.0, \"#0d0887\"], [0.1111111111111111, \"#46039f\"], [0.2222222222222222, \"#7201a8\"], [0.3333333333333333, \"#9c179e\"], [0.4444444444444444, \"#bd3786\"], [0.5555555555555556, \"#d8576b\"], [0.6666666666666666, \"#ed7953\"], [0.7777777777777778, \"#fb9f3a\"], [0.8888888888888888, \"#fdca26\"], [1.0, \"#f0f921\"]], \"type\": \"heatmapgl\"}], \"histogram\": [{\"marker\": {\"colorbar\": {\"outlinewidth\": 0, \"ticks\": \"\"}}, \"type\": \"histogram\"}], \"histogram2d\": [{\"colorbar\": {\"outlinewidth\": 0, \"ticks\": \"\"}, \"colorscale\": [[0.0, \"#0d0887\"], [0.1111111111111111, \"#46039f\"], [0.2222222222222222, \"#7201a8\"], [0.3333333333333333, \"#9c179e\"], [0.4444444444444444, \"#bd3786\"], [0.5555555555555556, \"#d8576b\"], [0.6666666666666666, \"#ed7953\"], [0.7777777777777778, \"#fb9f3a\"], [0.8888888888888888, \"#fdca26\"], [1.0, \"#f0f921\"]], \"type\": \"histogram2d\"}], \"histogram2dcontour\": [{\"colorbar\": {\"outlinewidth\": 0, \"ticks\": \"\"}, \"colorscale\": [[0.0, \"#0d0887\"], [0.1111111111111111, \"#46039f\"], [0.2222222222222222, \"#7201a8\"], [0.3333333333333333, \"#9c179e\"], [0.4444444444444444, \"#bd3786\"], [0.5555555555555556, \"#d8576b\"], [0.6666666666666666, \"#ed7953\"], [0.7777777777777778, \"#fb9f3a\"], [0.8888888888888888, \"#fdca26\"], [1.0, \"#f0f921\"]], \"type\": \"histogram2dcontour\"}], \"mesh3d\": [{\"colorbar\": {\"outlinewidth\": 0, \"ticks\": \"\"}, \"type\": \"mesh3d\"}], \"parcoords\": [{\"line\": {\"colorbar\": {\"outlinewidth\": 0, \"ticks\": \"\"}}, \"type\": \"parcoords\"}], \"pie\": [{\"automargin\": true, \"type\": \"pie\"}], \"scatter\": [{\"marker\": {\"colorbar\": {\"outlinewidth\": 0, \"ticks\": \"\"}}, \"type\": \"scatter\"}], \"scatter3d\": [{\"line\": {\"colorbar\": {\"outlinewidth\": 0, \"ticks\": \"\"}}, \"marker\": {\"colorbar\": {\"outlinewidth\": 0, \"ticks\": \"\"}}, \"type\": \"scatter3d\"}], \"scattercarpet\": [{\"marker\": {\"colorbar\": {\"outlinewidth\": 0, \"ticks\": \"\"}}, \"type\": \"scattercarpet\"}], \"scattergeo\": [{\"marker\": {\"colorbar\": {\"outlinewidth\": 0, \"ticks\": \"\"}}, \"type\": \"scattergeo\"}], \"scattergl\": [{\"marker\": {\"colorbar\": {\"outlinewidth\": 0, \"ticks\": \"\"}}, \"type\": \"scattergl\"}], \"scattermapbox\": [{\"marker\": {\"colorbar\": {\"outlinewidth\": 0, \"ticks\": \"\"}}, \"type\": \"scattermapbox\"}], \"scatterpolar\": [{\"marker\": {\"colorbar\": {\"outlinewidth\": 0, \"ticks\": \"\"}}, \"type\": \"scatterpolar\"}], \"scatterpolargl\": [{\"marker\": {\"colorbar\": {\"outlinewidth\": 0, \"ticks\": \"\"}}, \"type\": \"scatterpolargl\"}], \"scatterternary\": [{\"marker\": {\"colorbar\": {\"outlinewidth\": 0, \"ticks\": \"\"}}, \"type\": \"scatterternary\"}], \"surface\": [{\"colorbar\": {\"outlinewidth\": 0, \"ticks\": \"\"}, \"colorscale\": [[0.0, \"#0d0887\"], [0.1111111111111111, \"#46039f\"], [0.2222222222222222, \"#7201a8\"], [0.3333333333333333, \"#9c179e\"], [0.4444444444444444, \"#bd3786\"], [0.5555555555555556, \"#d8576b\"], [0.6666666666666666, \"#ed7953\"], [0.7777777777777778, \"#fb9f3a\"], [0.8888888888888888, \"#fdca26\"], [1.0, \"#f0f921\"]], \"type\": \"surface\"}], \"table\": [{\"cells\": {\"fill\": {\"color\": \"#EBF0F8\"}, \"line\": {\"color\": \"white\"}}, \"header\": {\"fill\": {\"color\": \"#C8D4E3\"}, \"line\": {\"color\": \"white\"}}, \"type\": \"table\"}]}, \"layout\": {\"annotationdefaults\": {\"arrowcolor\": \"#2a3f5f\", \"arrowhead\": 0, \"arrowwidth\": 1}, \"coloraxis\": {\"colorbar\": {\"outlinewidth\": 0, \"ticks\": \"\"}}, \"colorscale\": {\"diverging\": [[0, \"#8e0152\"], [0.1, \"#c51b7d\"], [0.2, \"#de77ae\"], [0.3, \"#f1b6da\"], [0.4, \"#fde0ef\"], [0.5, \"#f7f7f7\"], [0.6, \"#e6f5d0\"], [0.7, \"#b8e186\"], [0.8, \"#7fbc41\"], [0.9, \"#4d9221\"], [1, \"#276419\"]], \"sequential\": [[0.0, \"#0d0887\"], [0.1111111111111111, \"#46039f\"], [0.2222222222222222, \"#7201a8\"], [0.3333333333333333, \"#9c179e\"], [0.4444444444444444, \"#bd3786\"], [0.5555555555555556, \"#d8576b\"], [0.6666666666666666, \"#ed7953\"], [0.7777777777777778, \"#fb9f3a\"], [0.8888888888888888, \"#fdca26\"], [1.0, \"#f0f921\"]], \"sequentialminus\": [[0.0, \"#0d0887\"], [0.1111111111111111, \"#46039f\"], [0.2222222222222222, \"#7201a8\"], [0.3333333333333333, \"#9c179e\"], [0.4444444444444444, \"#bd3786\"], [0.5555555555555556, \"#d8576b\"], [0.6666666666666666, \"#ed7953\"], [0.7777777777777778, \"#fb9f3a\"], [0.8888888888888888, \"#fdca26\"], [1.0, \"#f0f921\"]]}, \"colorway\": [\"#636efa\", \"#EF553B\", \"#00cc96\", \"#ab63fa\", \"#FFA15A\", \"#19d3f3\", \"#FF6692\", \"#B6E880\", \"#FF97FF\", \"#FECB52\"], \"font\": {\"color\": \"#2a3f5f\"}, \"geo\": {\"bgcolor\": \"white\", \"lakecolor\": \"white\", \"landcolor\": \"#E5ECF6\", \"showlakes\": true, \"showland\": true, \"subunitcolor\": \"white\"}, \"hoverlabel\": {\"align\": \"left\"}, \"hovermode\": \"closest\", \"mapbox\": {\"style\": \"light\"}, \"paper_bgcolor\": \"white\", \"plot_bgcolor\": \"#E5ECF6\", \"polar\": {\"angularaxis\": {\"gridcolor\": \"white\", \"linecolor\": \"white\", \"ticks\": \"\"}, \"bgcolor\": \"#E5ECF6\", \"radialaxis\": {\"gridcolor\": \"white\", \"linecolor\": \"white\", \"ticks\": \"\"}}, \"scene\": {\"xaxis\": {\"backgroundcolor\": \"#E5ECF6\", \"gridcolor\": \"white\", \"gridwidth\": 2, \"linecolor\": \"white\", \"showbackground\": true, \"ticks\": \"\", \"zerolinecolor\": \"white\"}, \"yaxis\": {\"backgroundcolor\": \"#E5ECF6\", \"gridcolor\": \"white\", \"gridwidth\": 2, \"linecolor\": \"white\", \"showbackground\": true, \"ticks\": \"\", \"zerolinecolor\": \"white\"}, \"zaxis\": {\"backgroundcolor\": \"#E5ECF6\", \"gridcolor\": \"white\", \"gridwidth\": 2, \"linecolor\": \"white\", \"showbackground\": true, \"ticks\": \"\", \"zerolinecolor\": \"white\"}}, \"shapedefaults\": {\"line\": {\"color\": \"#2a3f5f\"}}, \"ternary\": {\"aaxis\": {\"gridcolor\": \"white\", \"linecolor\": \"white\", \"ticks\": \"\"}, \"baxis\": {\"gridcolor\": \"white\", \"linecolor\": \"white\", \"ticks\": \"\"}, \"bgcolor\": \"#E5ECF6\", \"caxis\": {\"gridcolor\": \"white\", \"linecolor\": \"white\", \"ticks\": \"\"}}, \"title\": {\"x\": 0.05}, \"xaxis\": {\"automargin\": true, \"gridcolor\": \"white\", \"linecolor\": \"white\", \"ticks\": \"\", \"title\": {\"standoff\": 15}, \"zerolinecolor\": \"white\", \"zerolinewidth\": 2}, \"yaxis\": {\"automargin\": true, \"gridcolor\": \"white\", \"linecolor\": \"white\", \"ticks\": \"\", \"title\": {\"standoff\": 15}, \"zerolinecolor\": \"white\", \"zerolinewidth\": 2}}}},\n",
       "                        {\"responsive\": true}\n",
       "                    ).then(function(){\n",
       "                            \n",
       "var gd = document.getElementById('ada54708-ea6a-4c80-b699-be70de04c3da');\n",
       "var x = new MutationObserver(function (mutations, observer) {{\n",
       "        var display = window.getComputedStyle(gd).display;\n",
       "        if (!display || display === 'none') {{\n",
       "            console.log([gd, 'removed!']);\n",
       "            Plotly.purge(gd);\n",
       "            observer.disconnect();\n",
       "        }}\n",
       "}});\n",
       "\n",
       "// Listen for the removal of the full notebook cells\n",
       "var notebookContainer = gd.closest('#notebook-container');\n",
       "if (notebookContainer) {{\n",
       "    x.observe(notebookContainer, {childList: true});\n",
       "}}\n",
       "\n",
       "// Listen for the clearing of the current output cell\n",
       "var outputEl = gd.closest('.output');\n",
       "if (outputEl) {{\n",
       "    x.observe(outputEl, {childList: true});\n",
       "}}\n",
       "\n",
       "                        })\n",
       "                };\n",
       "                });\n",
       "            </script>\n",
       "        </div>"
      ]
     },
     "metadata": {},
     "output_type": "display_data"
    }
   ],
   "source": [
    "# Источники по всем платформам\n",
    "go.Figure(data=[go.Pie(labels=sources.source.head(16), values=sources.share_of_source.head(16))])\n"
   ]
  },
  {
   "cell_type": "code",
   "execution_count": 801,
   "metadata": {
    "ExecuteTime": {
     "end_time": "2021-04-04T17:50:08.950059Z",
     "start_time": "2021-04-04T17:50:08.873497Z"
    },
    "code_folding": [
     0
    ]
   },
   "outputs": [],
   "source": [
    "# данные по iOS\n",
    "sources_iOS = (sign[sign.platform == 'iOS']['MEDIA_SOURCE'].value_counts().reset_index()\n",
    " .rename(columns={'index':'source', 'MEDIA_SOURCE':'total_users'})\n",
    " .merge((sign[(sign['gp:USER_ID'].isin(payments.Email)) & (sign.platform == 'iOS')]['MEDIA_SOURCE']\n",
    "         .value_counts().reset_index()\n",
    "         .rename(columns={'index':'source', 'MEDIA_SOURCE':'paying_users'})), how='left',on='source')\n",
    ")\n",
    "\n",
    "sources_iOS = sources_iOS.fillna(0)\n",
    "sources_iOS.paying_users = sources_iOS.paying_users.astype('int')\n",
    "\n",
    "sources_iOS['share_of_source'] = round(sources_iOS.total_users / sources_iOS.total_users.sum(), 3)\n",
    "\n",
    "sources_iOS['conversion'] = round(sources_iOS.paying_users / sources_iOS.total_users, 3)\n",
    "\n",
    "sources_iOS_revenue = (sign[sign.platform == 'iOS'].merge(payments, left_on='gp:USER_ID', right_on='Email')\n",
    " .groupby('MEDIA_SOURCE')['Amount'].sum().reset_index())\n",
    "\n",
    "\n",
    "sources_iOS = sources_iOS.merge(sources_iOS_revenue, how='left', left_on='source', right_on='MEDIA_SOURCE').fillna(0)\n",
    "\n",
    "sources_iOS.rename(columns={'Amount': 'revenue_by_source'}, inplace=True)\n",
    "\n",
    "sources_iOS = sources_iOS[['source','total_users','share_of_source',\n",
    "         'paying_users','conversion','revenue_by_source']]\n",
    "\n",
    "sources_iOS['ARPU'] = round(sources_iOS.revenue_by_source / sources_iOS.total_users, 2)\n",
    "sources_iOS['ARPPU'] = round(sources_iOS.revenue_by_source / sources_iOS.paying_users, 2)\n"
   ]
  },
  {
   "cell_type": "code",
   "execution_count": 802,
   "metadata": {
    "ExecuteTime": {
     "end_time": "2021-04-04T17:50:10.623740Z",
     "start_time": "2021-04-04T17:50:10.599017Z"
    }
   },
   "outputs": [
    {
     "data": {
      "text/html": [
       "<div>\n",
       "<style scoped>\n",
       "    .dataframe tbody tr th:only-of-type {\n",
       "        vertical-align: middle;\n",
       "    }\n",
       "\n",
       "    .dataframe tbody tr th {\n",
       "        vertical-align: top;\n",
       "    }\n",
       "\n",
       "    .dataframe thead th {\n",
       "        text-align: right;\n",
       "    }\n",
       "</style>\n",
       "<table border=\"1\" class=\"dataframe\">\n",
       "  <thead>\n",
       "    <tr style=\"text-align: right;\">\n",
       "      <th></th>\n",
       "      <th>source</th>\n",
       "      <th>total_users</th>\n",
       "      <th>share_of_source</th>\n",
       "      <th>paying_users</th>\n",
       "      <th>conversion</th>\n",
       "      <th>revenue_by_source</th>\n",
       "      <th>ARPU</th>\n",
       "      <th>ARPPU</th>\n",
       "    </tr>\n",
       "  </thead>\n",
       "  <tbody>\n",
       "    <tr>\n",
       "      <th>3</th>\n",
       "      <td>landing</td>\n",
       "      <td>125</td>\n",
       "      <td>0.088</td>\n",
       "      <td>20</td>\n",
       "      <td>0.160</td>\n",
       "      <td>7594.43</td>\n",
       "      <td>60.76</td>\n",
       "      <td>379.72</td>\n",
       "    </tr>\n",
       "    <tr>\n",
       "      <th>16</th>\n",
       "      <td>None</td>\n",
       "      <td>1</td>\n",
       "      <td>0.001</td>\n",
       "      <td>1</td>\n",
       "      <td>1.000</td>\n",
       "      <td>53.50</td>\n",
       "      <td>53.50</td>\n",
       "      <td>53.50</td>\n",
       "    </tr>\n",
       "    <tr>\n",
       "      <th>8</th>\n",
       "      <td>Blog</td>\n",
       "      <td>31</td>\n",
       "      <td>0.022</td>\n",
       "      <td>7</td>\n",
       "      <td>0.226</td>\n",
       "      <td>1307.56</td>\n",
       "      <td>42.18</td>\n",
       "      <td>186.79</td>\n",
       "    </tr>\n",
       "    <tr>\n",
       "      <th>5</th>\n",
       "      <td>QR_code</td>\n",
       "      <td>92</td>\n",
       "      <td>0.065</td>\n",
       "      <td>10</td>\n",
       "      <td>0.109</td>\n",
       "      <td>1382.93</td>\n",
       "      <td>15.03</td>\n",
       "      <td>138.29</td>\n",
       "    </tr>\n",
       "    <tr>\n",
       "      <th>0</th>\n",
       "      <td>unknown</td>\n",
       "      <td>587</td>\n",
       "      <td>0.414</td>\n",
       "      <td>41</td>\n",
       "      <td>0.070</td>\n",
       "      <td>5390.62</td>\n",
       "      <td>9.18</td>\n",
       "      <td>131.48</td>\n",
       "    </tr>\n",
       "    <tr>\n",
       "      <th>4</th>\n",
       "      <td>landing_email</td>\n",
       "      <td>114</td>\n",
       "      <td>0.080</td>\n",
       "      <td>12</td>\n",
       "      <td>0.105</td>\n",
       "      <td>634.46</td>\n",
       "      <td>5.57</td>\n",
       "      <td>52.87</td>\n",
       "    </tr>\n",
       "    <tr>\n",
       "      <th>6</th>\n",
       "      <td>Cindicator Website</td>\n",
       "      <td>89</td>\n",
       "      <td>0.063</td>\n",
       "      <td>7</td>\n",
       "      <td>0.079</td>\n",
       "      <td>465.42</td>\n",
       "      <td>5.23</td>\n",
       "      <td>66.49</td>\n",
       "    </tr>\n",
       "    <tr>\n",
       "      <th>1</th>\n",
       "      <td>Apple Search Ads</td>\n",
       "      <td>170</td>\n",
       "      <td>0.120</td>\n",
       "      <td>4</td>\n",
       "      <td>0.024</td>\n",
       "      <td>507.95</td>\n",
       "      <td>2.99</td>\n",
       "      <td>126.99</td>\n",
       "    </tr>\n",
       "    <tr>\n",
       "      <th>7</th>\n",
       "      <td>Cross_sale</td>\n",
       "      <td>44</td>\n",
       "      <td>0.031</td>\n",
       "      <td>1</td>\n",
       "      <td>0.023</td>\n",
       "      <td>52.80</td>\n",
       "      <td>1.20</td>\n",
       "      <td>52.80</td>\n",
       "    </tr>\n",
       "    <tr>\n",
       "      <th>2</th>\n",
       "      <td>bidease_int</td>\n",
       "      <td>125</td>\n",
       "      <td>0.088</td>\n",
       "      <td>1</td>\n",
       "      <td>0.008</td>\n",
       "      <td>51.09</td>\n",
       "      <td>0.41</td>\n",
       "      <td>51.09</td>\n",
       "    </tr>\n",
       "    <tr>\n",
       "      <th>9</th>\n",
       "      <td>Social_twitter</td>\n",
       "      <td>16</td>\n",
       "      <td>0.011</td>\n",
       "      <td>0</td>\n",
       "      <td>0.000</td>\n",
       "      <td>0.00</td>\n",
       "      <td>0.00</td>\n",
       "      <td>NaN</td>\n",
       "    </tr>\n",
       "    <tr>\n",
       "      <th>10</th>\n",
       "      <td>Telegram Promo</td>\n",
       "      <td>5</td>\n",
       "      <td>0.004</td>\n",
       "      <td>0</td>\n",
       "      <td>0.000</td>\n",
       "      <td>0.00</td>\n",
       "      <td>0.00</td>\n",
       "      <td>NaN</td>\n",
       "    </tr>\n",
       "  </tbody>\n",
       "</table>\n",
       "</div>"
      ],
      "text/plain": [
       "                source  total_users  share_of_source  paying_users  \\\n",
       "3              landing          125            0.088            20   \n",
       "16                None            1            0.001             1   \n",
       "8                 Blog           31            0.022             7   \n",
       "5              QR_code           92            0.065            10   \n",
       "0              unknown          587            0.414            41   \n",
       "4        landing_email          114            0.080            12   \n",
       "6   Cindicator Website           89            0.063             7   \n",
       "1     Apple Search Ads          170            0.120             4   \n",
       "7           Cross_sale           44            0.031             1   \n",
       "2          bidease_int          125            0.088             1   \n",
       "9       Social_twitter           16            0.011             0   \n",
       "10      Telegram Promo            5            0.004             0   \n",
       "\n",
       "    conversion  revenue_by_source   ARPU   ARPPU  \n",
       "3        0.160            7594.43  60.76  379.72  \n",
       "16       1.000              53.50  53.50   53.50  \n",
       "8        0.226            1307.56  42.18  186.79  \n",
       "5        0.109            1382.93  15.03  138.29  \n",
       "0        0.070            5390.62   9.18  131.48  \n",
       "4        0.105             634.46   5.57   52.87  \n",
       "6        0.079             465.42   5.23   66.49  \n",
       "1        0.024             507.95   2.99  126.99  \n",
       "7        0.023              52.80   1.20   52.80  \n",
       "2        0.008              51.09   0.41   51.09  \n",
       "9        0.000               0.00   0.00     NaN  \n",
       "10       0.000               0.00   0.00     NaN  "
      ]
     },
     "execution_count": 802,
     "metadata": {},
     "output_type": "execute_result"
    }
   ],
   "source": [
    "sources_iOS.sort_values('ARPU',ascending=False).head(12)"
   ]
  },
  {
   "cell_type": "code",
   "execution_count": 803,
   "metadata": {
    "ExecuteTime": {
     "end_time": "2021-04-04T17:50:27.466411Z",
     "start_time": "2021-04-04T17:50:27.378932Z"
    },
    "code_folding": [
     0
    ]
   },
   "outputs": [],
   "source": [
    "# данные по Android\n",
    "\n",
    "sources_Android = (sign[sign.platform == 'Android']['MEDIA_SOURCE'].value_counts().reset_index()\n",
    " .rename(columns={'index':'source', 'MEDIA_SOURCE':'total_users'})\n",
    " .merge((sign[(sign['gp:USER_ID'].isin(payments.Email)) & (sign.platform == 'Android')]['MEDIA_SOURCE']\n",
    "         .value_counts().reset_index()\n",
    "         .rename(columns={'index':'source', 'MEDIA_SOURCE':'paying_users'})), how='left',on='source')\n",
    ")\n",
    "\n",
    "sources_Android = sources_Android.fillna(0)\n",
    "sources_Android.paying_users = sources_Android.paying_users.astype('int')\n",
    "\n",
    "sources_Android['share_of_source'] = round(sources_Android.total_users / sources_Android.total_users.sum(), 3)\n",
    "\n",
    "sources_Android['conversion'] = round(sources_Android.paying_users / sources_Android.total_users, 3)\n",
    "\n",
    "sources_Android_revenue = (sign[sign.platform == 'Android'].merge(payments, left_on='gp:USER_ID', right_on='Email')\n",
    " .groupby('MEDIA_SOURCE')['Amount'].sum().reset_index())\n",
    "\n",
    "\n",
    "sources_Android = sources_Android.merge(sources_Android_revenue, how='left', left_on='source', right_on='MEDIA_SOURCE').fillna(0)\n",
    "\n",
    "sources_Android.rename(columns={'Amount': 'revenue_by_source'}, inplace=True)\n",
    "\n",
    "sources_Android = sources_Android[['source','total_users','share_of_source',\n",
    "         'paying_users','conversion','revenue_by_source']]\n",
    "\n",
    "sources_Android['ARPU'] = round(sources_Android.revenue_by_source / sources_Android.total_users, 2)\n",
    "sources_Android['ARPPU'] = round(sources_Android.revenue_by_source / sources_Android.paying_users, 2)\n"
   ]
  },
  {
   "cell_type": "code",
   "execution_count": 804,
   "metadata": {
    "ExecuteTime": {
     "end_time": "2021-04-04T17:50:29.943997Z",
     "start_time": "2021-04-04T17:50:29.883342Z"
    }
   },
   "outputs": [
    {
     "data": {
      "text/html": [
       "<div>\n",
       "<style scoped>\n",
       "    .dataframe tbody tr th:only-of-type {\n",
       "        vertical-align: middle;\n",
       "    }\n",
       "\n",
       "    .dataframe tbody tr th {\n",
       "        vertical-align: top;\n",
       "    }\n",
       "\n",
       "    .dataframe thead th {\n",
       "        text-align: right;\n",
       "    }\n",
       "</style>\n",
       "<table border=\"1\" class=\"dataframe\">\n",
       "  <thead>\n",
       "    <tr style=\"text-align: right;\">\n",
       "      <th></th>\n",
       "      <th>source</th>\n",
       "      <th>total_users</th>\n",
       "      <th>share_of_source</th>\n",
       "      <th>paying_users</th>\n",
       "      <th>conversion</th>\n",
       "      <th>revenue_by_source</th>\n",
       "      <th>ARPU</th>\n",
       "      <th>ARPPU</th>\n",
       "    </tr>\n",
       "  </thead>\n",
       "  <tbody>\n",
       "    <tr>\n",
       "      <th>4</th>\n",
       "      <td>landing_email</td>\n",
       "      <td>116</td>\n",
       "      <td>0.023</td>\n",
       "      <td>18</td>\n",
       "      <td>0.155</td>\n",
       "      <td>1666.48</td>\n",
       "      <td>14.37</td>\n",
       "      <td>92.58</td>\n",
       "    </tr>\n",
       "    <tr>\n",
       "      <th>7</th>\n",
       "      <td>QR_code</td>\n",
       "      <td>88</td>\n",
       "      <td>0.018</td>\n",
       "      <td>21</td>\n",
       "      <td>0.239</td>\n",
       "      <td>1150.00</td>\n",
       "      <td>13.07</td>\n",
       "      <td>54.76</td>\n",
       "    </tr>\n",
       "    <tr>\n",
       "      <th>2</th>\n",
       "      <td>landing</td>\n",
       "      <td>134</td>\n",
       "      <td>0.027</td>\n",
       "      <td>13</td>\n",
       "      <td>0.097</td>\n",
       "      <td>1263.92</td>\n",
       "      <td>9.43</td>\n",
       "      <td>97.22</td>\n",
       "    </tr>\n",
       "    <tr>\n",
       "      <th>5</th>\n",
       "      <td>Cross_sale</td>\n",
       "      <td>98</td>\n",
       "      <td>0.020</td>\n",
       "      <td>4</td>\n",
       "      <td>0.041</td>\n",
       "      <td>793.56</td>\n",
       "      <td>8.10</td>\n",
       "      <td>198.39</td>\n",
       "    </tr>\n",
       "    <tr>\n",
       "      <th>9</th>\n",
       "      <td>Social_twitter</td>\n",
       "      <td>25</td>\n",
       "      <td>0.005</td>\n",
       "      <td>1</td>\n",
       "      <td>0.040</td>\n",
       "      <td>200.00</td>\n",
       "      <td>8.00</td>\n",
       "      <td>200.00</td>\n",
       "    </tr>\n",
       "    <tr>\n",
       "      <th>8</th>\n",
       "      <td>Blog</td>\n",
       "      <td>36</td>\n",
       "      <td>0.007</td>\n",
       "      <td>4</td>\n",
       "      <td>0.111</td>\n",
       "      <td>267.08</td>\n",
       "      <td>7.42</td>\n",
       "      <td>66.77</td>\n",
       "    </tr>\n",
       "    <tr>\n",
       "      <th>3</th>\n",
       "      <td>Cindicator Website</td>\n",
       "      <td>126</td>\n",
       "      <td>0.025</td>\n",
       "      <td>11</td>\n",
       "      <td>0.087</td>\n",
       "      <td>877.50</td>\n",
       "      <td>6.96</td>\n",
       "      <td>79.77</td>\n",
       "    </tr>\n",
       "    <tr>\n",
       "      <th>10</th>\n",
       "      <td>Telegram Promo</td>\n",
       "      <td>19</td>\n",
       "      <td>0.004</td>\n",
       "      <td>2</td>\n",
       "      <td>0.105</td>\n",
       "      <td>125.00</td>\n",
       "      <td>6.58</td>\n",
       "      <td>62.50</td>\n",
       "    </tr>\n",
       "    <tr>\n",
       "      <th>1</th>\n",
       "      <td>unknown</td>\n",
       "      <td>1768</td>\n",
       "      <td>0.358</td>\n",
       "      <td>63</td>\n",
       "      <td>0.036</td>\n",
       "      <td>7046.91</td>\n",
       "      <td>3.99</td>\n",
       "      <td>111.86</td>\n",
       "    </tr>\n",
       "    <tr>\n",
       "      <th>0</th>\n",
       "      <td>bidease_int</td>\n",
       "      <td>2421</td>\n",
       "      <td>0.490</td>\n",
       "      <td>1</td>\n",
       "      <td>0.000</td>\n",
       "      <td>51.12</td>\n",
       "      <td>0.02</td>\n",
       "      <td>51.12</td>\n",
       "    </tr>\n",
       "  </tbody>\n",
       "</table>\n",
       "</div>"
      ],
      "text/plain": [
       "                source  total_users  share_of_source  paying_users  \\\n",
       "4        landing_email          116            0.023            18   \n",
       "7              QR_code           88            0.018            21   \n",
       "2              landing          134            0.027            13   \n",
       "5           Cross_sale           98            0.020             4   \n",
       "9       Social_twitter           25            0.005             1   \n",
       "8                 Blog           36            0.007             4   \n",
       "3   Cindicator Website          126            0.025            11   \n",
       "10      Telegram Promo           19            0.004             2   \n",
       "1              unknown         1768            0.358            63   \n",
       "0          bidease_int         2421            0.490             1   \n",
       "\n",
       "    conversion  revenue_by_source   ARPU   ARPPU  \n",
       "4        0.155            1666.48  14.37   92.58  \n",
       "7        0.239            1150.00  13.07   54.76  \n",
       "2        0.097            1263.92   9.43   97.22  \n",
       "5        0.041             793.56   8.10  198.39  \n",
       "9        0.040             200.00   8.00  200.00  \n",
       "8        0.111             267.08   7.42   66.77  \n",
       "3        0.087             877.50   6.96   79.77  \n",
       "10       0.105             125.00   6.58   62.50  \n",
       "1        0.036            7046.91   3.99  111.86  \n",
       "0        0.000              51.12   0.02   51.12  "
      ]
     },
     "execution_count": 804,
     "metadata": {},
     "output_type": "execute_result"
    }
   ],
   "source": [
    "sources_Android.sort_values('ARPU',ascending=False).head(10)"
   ]
  },
  {
   "cell_type": "markdown",
   "metadata": {},
   "source": [
    "Показатели юнит-экономики"
   ]
  },
  {
   "cell_type": "code",
   "execution_count": 818,
   "metadata": {
    "ExecuteTime": {
     "end_time": "2021-04-04T18:12:29.662625Z",
     "start_time": "2021-04-04T18:12:29.627232Z"
    },
    "code_folding": [
     0
    ]
   },
   "outputs": [
    {
     "data": {
      "text/html": [
       "<div>\n",
       "<style scoped>\n",
       "    .dataframe tbody tr th:only-of-type {\n",
       "        vertical-align: middle;\n",
       "    }\n",
       "\n",
       "    .dataframe tbody tr th {\n",
       "        vertical-align: top;\n",
       "    }\n",
       "\n",
       "    .dataframe thead th {\n",
       "        text-align: right;\n",
       "    }\n",
       "</style>\n",
       "<table border=\"1\" class=\"dataframe\">\n",
       "  <thead>\n",
       "    <tr style=\"text-align: right;\">\n",
       "      <th></th>\n",
       "      <th>platform_filter</th>\n",
       "      <th>ARPU</th>\n",
       "      <th>ARPPU</th>\n",
       "      <th>revenue</th>\n",
       "      <th>revenue_share</th>\n",
       "    </tr>\n",
       "  </thead>\n",
       "  <tbody>\n",
       "    <tr>\n",
       "      <th>0</th>\n",
       "      <td>По всем платформам</td>\n",
       "      <td>4.85</td>\n",
       "      <td>127.61</td>\n",
       "      <td>30882.33</td>\n",
       "      <td>1.00</td>\n",
       "    </tr>\n",
       "    <tr>\n",
       "      <th>1</th>\n",
       "      <td>Android</td>\n",
       "      <td>2.72</td>\n",
       "      <td>97.40</td>\n",
       "      <td>13441.57</td>\n",
       "      <td>0.44</td>\n",
       "    </tr>\n",
       "    <tr>\n",
       "      <th>2</th>\n",
       "      <td>iOS</td>\n",
       "      <td>12.29</td>\n",
       "      <td>167.70</td>\n",
       "      <td>17440.76</td>\n",
       "      <td>0.56</td>\n",
       "    </tr>\n",
       "  </tbody>\n",
       "</table>\n",
       "</div>"
      ],
      "text/plain": [
       "      platform_filter   ARPU   ARPPU   revenue  revenue_share\n",
       "0  По всем платформам   4.85  127.61  30882.33           1.00\n",
       "1             Android   2.72   97.40  13441.57           0.44\n",
       "2                 iOS  12.29  167.70  17440.76           0.56"
      ]
     },
     "execution_count": 818,
     "metadata": {},
     "output_type": "execute_result"
    }
   ],
   "source": [
    "# данные\n",
    "cols = ['platform_filter','ARPU','ARPPU','revenue']\n",
    "list_of_series = [pd.Series(['По всем платформам',\n",
    "                             round(sources.revenue_by_source.sum() / sources.total_users.sum(), 2),\n",
    "                             round(sources.revenue_by_source.sum() / sources.paying_users.sum(), 2), \n",
    "                             (sources_iOS.revenue_by_source.sum() + sources_Android.revenue_by_source.sum())],index=cols), \n",
    "                  pd.Series(['Android',\n",
    "                             round(sources_Android.revenue_by_source.sum() / sources_Android.total_users.sum(),2),\n",
    "                             round(sources_Android.revenue_by_source.sum() / sources_Android.paying_users.sum(),2), \n",
    "                             (sources_Android.revenue_by_source.sum())],index=cols), \n",
    "                  pd.Series(['iOS',\n",
    "                             round(sources_iOS.revenue_by_source.sum() / sources_iOS.total_users.sum(),2),\n",
    "                             round(sources_iOS.revenue_by_source.sum() / sources_iOS.paying_users.sum(),2), \n",
    "                             (sources_iOS.revenue_by_source.sum())],index=cols)]\n",
    "                  \n",
    "tab_unit = pd.DataFrame(list_of_series, columns=cols)\n",
    "\n",
    "tab_unit['revenue_share'] = round(tab_unit.revenue/tab_unit.revenue[0], 2)\n",
    "\n",
    "tab_unit\n"
   ]
  }
 ],
 "metadata": {
  "kernelspec": {
   "display_name": "Python 3",
   "language": "python",
   "name": "python3"
  },
  "language_info": {
   "codemirror_mode": {
    "name": "ipython",
    "version": 3
   },
   "file_extension": ".py",
   "mimetype": "text/x-python",
   "name": "python",
   "nbconvert_exporter": "python",
   "pygments_lexer": "ipython3",
   "version": "3.7.4"
  },
  "toc": {
   "base_numbering": 1,
   "nav_menu": {},
   "number_sections": true,
   "sideBar": true,
   "skip_h1_title": false,
   "title_cell": "Table of Contents",
   "title_sidebar": "Contents",
   "toc_cell": false,
   "toc_position": {},
   "toc_section_display": true,
   "toc_window_display": true
  }
 },
 "nbformat": 4,
 "nbformat_minor": 2
}
